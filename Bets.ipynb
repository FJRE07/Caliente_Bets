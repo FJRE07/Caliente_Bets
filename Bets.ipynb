{
 "cells": [
  {
   "attachments": {},
   "cell_type": "markdown",
   "metadata": {},
   "source": [
    "#### Web Scraping Bets\n",
    "\n",
    "The following code scraps bets from \"Caliente.com\". It retrieves the \"momios\" of the Mexican Soccer league only.  "
   ]
  },
  {
   "cell_type": "code",
   "execution_count": 2,
   "metadata": {},
   "outputs": [],
   "source": [
    "from bs4 import BeautifulSoup\n",
    "import urllib,re\n",
    "from lxml import etree\n",
    "import pandas as pd\n",
    "import numpy as np\n",
    "from math import floor\n",
    "from statistics import stdev,mean as sd,mean\n",
    "import Bets as bt"
   ]
  },
  {
   "attachments": {},
   "cell_type": "markdown",
   "metadata": {},
   "source": [
    "Call the file with all the functions"
   ]
  },
  {
   "attachments": {},
   "cell_type": "markdown",
   "metadata": {},
   "source": [
    "This project will use BeautifulSoup to web scrap the web page, as the page structure isn't complex in order to use another libraries.\n"
   ]
  },
  {
   "cell_type": "code",
   "execution_count": 3,
   "metadata": {},
   "outputs": [],
   "source": [
    "# Assing the host link\n",
    "link='https://sports.caliente.mx/es_MX'\n",
    "# Create a request object with headers\n",
    "req = urllib.request.Request(link, headers={\"User-Agent\": \"Mozilla/5.0\"})\n",
    "# Open the URL and read the HTML content\n",
    "html = urllib.request.urlopen(req).read()\n",
    "# Create a BeautifulSoup object to parse the HTML content\n",
    "soup=BeautifulSoup(html,\"html.parser\")\n",
    "# Scrapping the tags \"div\" where they class is equal to \"fragment expander coupon-for-type\"\n",
    "Bets=soup.find_all('div',attrs={'class':\"fragment expander coupon-for-type\"})"
   ]
  },
  {
   "cell_type": "code",
   "execution_count": 4,
   "metadata": {},
   "outputs": [],
   "source": [
    "dic={}\n",
    "for Bet in Bets:\n",
    "    # Parsing the HTML per each league\n",
    "    parsed=etree.HTML(str(Bet))\n",
    "    # League title\n",
    "    League=str(parsed.xpath('//h4/text()')[0]).strip()\n",
    "    # Teams per Bet\n",
    "    teams=parsed.xpath('//td[contains(@class,\"seln\")]/div/button/@title')\n",
    "    # \"Momios\" per Bet\n",
    "    bets=parsed.xpath(\"//td[contains(@class,'seln')]/div/button/span/span[@class='price us']/text()\")\n",
    "    \n",
    "    lenminimum=min(len(teams),len(bets))\n",
    "    auxiliar=floor(lenminimum/3)   \n",
    "    dfteams=np.array(teams[0:(auxiliar*3)]).reshape(auxiliar,3)\n",
    "    dfbets=np.array(bets[0:(auxiliar*3)]).reshape(auxiliar,3)\n",
    "    #Assigning the berts per league\n",
    "    dic[League]=dic.get(League,{\"Teams\":dfteams,\"Bets\":dfbets})\n",
    "    \n",
    "keys=list(dic.keys())"
   ]
  },
  {
   "cell_type": "code",
   "execution_count": 7,
   "metadata": {},
   "outputs": [
    {
     "data": {
      "text/plain": [
       "['México - Liga MX',\n",
       " 'Mundial 2026 - Mundial 2026 - Clasificatorios CONMEBOL',\n",
       " 'Amistosos',\n",
       " 'CONCACAF Liga de Naciones - Nations League Partidos',\n",
       " 'Mexico - Liga de Expansion MX',\n",
       " 'La Liga',\n",
       " 'Inglaterra - Premier League',\n",
       " 'Italia - Serie A',\n",
       " 'Bundesliga 1',\n",
       " 'Ligue 1']"
      ]
     },
     "execution_count": 7,
     "metadata": {},
     "output_type": "execute_result"
    }
   ],
   "source": [
    "keys"
   ]
  },
  {
   "cell_type": "code",
   "execution_count": 13,
   "metadata": {},
   "outputs": [],
   "source": [
    "# The current analysis is interested in the Mexican soccer league. However, we could do it for the other leagues. \n",
    "league=dic['México - Liga MX']\n",
    "teams=league['Teams']\n",
    "bets=league['Bets']\n",
    "\n",
    "momios=bt.transform(bets)"
   ]
  },
  {
   "cell_type": "code",
   "execution_count": 26,
   "metadata": {},
   "outputs": [
    {
     "data": {
      "text/plain": [
       "array([['Atlas ', 'Empate ', 'Mazatlán FC '],\n",
       "       ['FC Juárez ', 'Empate ', 'Pachuca '],\n",
       "       ['Puebla ', 'Empate ', 'Chivas de Guadalajara '],\n",
       "       ['León ', 'Empate ', 'Toluca '],\n",
       "       ['América ', 'Empate ', 'Santos Laguna '],\n",
       "       ['Querétaro FC ', 'Empate ', 'Tijuana Xolos de Caliente '],\n",
       "       ['Tigres UANL ', 'Empate ', 'Cruz Azul '],\n",
       "       ['Pumas UNAM ', 'Empate ', 'Monterrey '],\n",
       "       ['Atlético San Luis ', 'Empate ', 'Necaxa '],\n",
       "       ['León ', 'Empate ', 'Atlas '],\n",
       "       ['Monterrey ', 'Empate ', 'Tijuana Xolos de Caliente '],\n",
       "       ['FC Juárez ', 'Empate ', 'Atlético San Luis '],\n",
       "       ['Necaxa ', 'Empate ', 'Pumas UNAM '],\n",
       "       ['Mazatlán FC ', 'Empate ', 'Querétaro FC '],\n",
       "       ['Cruz Azul ', 'Empate ', 'León '],\n",
       "       ['Pachuca ', 'Empate ', 'Puebla '],\n",
       "       ['Chivas de Guadalajara ', 'Empate ', 'Tigres UANL '],\n",
       "       ['Monterrey ', 'Empate ', 'América '],\n",
       "       ['Toluca ', 'Empate ', 'Atlético San Luis '],\n",
       "       ['Santos Laguna ', 'Empate ', 'FC Juárez '],\n",
       "       ['Tijuana Xolos de Caliente ', 'Empate ', 'Atlas ']], dtype='<U26')"
      ]
     },
     "execution_count": 26,
     "metadata": {},
     "output_type": "execute_result"
    }
   ],
   "source": [
    "teams"
   ]
  },
  {
   "attachments": {},
   "cell_type": "markdown",
   "metadata": {},
   "source": [
    "Creating a dictionary that will have as keys the match and the values contained are the simulations. "
   ]
  },
  {
   "cell_type": "code",
   "execution_count": 15,
   "metadata": {},
   "outputs": [],
   "source": [
    "Bet_Simulation={}"
   ]
  },
  {
   "cell_type": "code",
   "execution_count": 16,
   "metadata": {},
   "outputs": [
    {
     "name": "stdout",
     "output_type": "stream",
     "text": [
      "Done Atlas - Empate - Mazatlán FC \n",
      "Done FC Juárez - Empate - Pachuca \n",
      "Done Puebla - Empate - Chivas de Guadalajara \n",
      "Done León - Empate - Toluca \n",
      "Done América - Empate - Santos Laguna \n",
      "Done Querétaro FC - Empate - Tijuana Xolos de Caliente \n",
      "Done Tigres UANL - Empate - Cruz Azul \n",
      "Done Pumas UNAM - Empate - Monterrey \n",
      "Done Atlético San Luis - Empate - Necaxa \n",
      "Done León - Empate - Atlas \n",
      "Done Monterrey - Empate - Tijuana Xolos de Caliente \n",
      "Done FC Juárez - Empate - Atlético San Luis \n",
      "Done Necaxa - Empate - Pumas UNAM \n",
      "Done Mazatlán FC - Empate - Querétaro FC \n",
      "Done Cruz Azul - Empate - León \n",
      "Done Pachuca - Empate - Puebla \n",
      "Done Chivas de Guadalajara - Empate - Tigres UANL \n",
      "Done Monterrey - Empate - América \n",
      "Done Toluca - Empate - Atlético San Luis \n",
      "Done Santos Laguna - Empate - FC Juárez \n",
      "Done Tijuana Xolos de Caliente - Empate - Atlas \n"
     ]
    }
   ],
   "source": [
    "for item in range(len(teams)):\n",
    "\n",
    "    teamnames=list(teams[item])\n",
    "    teammomio=momios[item]\n",
    "    #Function\n",
    "    proportions=bt.bet(teammomio)\n",
    "    gains=proportions[\"Gains\"]\n",
    "    numbers=proportions[\"Numbers\"]\n",
    "    #Selected is an index array that have the bets which have at least two positive results\n",
    "    selected=bt.select(gains)\n",
    "    selectedgains=[]\n",
    "    selectednumbers=[]\n",
    "    \n",
    "    # Pass the dictonary into a dataframe\n",
    "    for ite in selected:\n",
    "        selectedgains.append(gains[ite])\n",
    "        selectednumbers.append(numbers[ite])\n",
    "    selectednumbers=pd.DataFrame(selectednumbers)\n",
    "    selectednumbers.columns=[\"Percentage \" +x for x in list(teams[item])]    \n",
    "    \n",
    "    #Considering all the scenarios from the select function\n",
    "    all_results=bt.addmaxmin(selectedgains,teamnames)\n",
    "    all_results[\"Sd\"]=pd.DataFrame(gains).apply(lambda x: np.std(x),axis=1)\n",
    "    all_results[\"Average\"]=pd.DataFrame(gains).apply(lambda x: mean(x),axis=1)\n",
    "\n",
    "    result=pd.concat([selectednumbers,all_results],axis=1)\n",
    "    result=bt.minsort(result)\n",
    "\n",
    "    # Scenario where the abs(maximum)>abs(minimum)\n",
    "    abs_result=pd.DataFrame(selectedgains).apply(lambda x: bt.greater_than_abs_minimum(x),axis=1 )\n",
    "    abs_result=pd.concat([selectednumbers,abs_result],axis=1).dropna()\n",
    "    \n",
    "\n",
    "    joined_teams=str('- '.join(list(teams[item])))\n",
    "    print(\"Done \"+ joined_teams)\n",
    "    Bet_Simulation[joined_teams]=Bet_Simulation.get(joined_teams,{})\n",
    "    Bet_Simulation[joined_teams][\"All_Results\"]=result\n",
    "    Bet_Simulation[joined_teams][\"Abs_Results\"]=result.iloc[abs_result.index]\n"
   ]
  },
  {
   "attachments": {},
   "cell_type": "markdown",
   "metadata": {},
   "source": [
    "The code only retrieves the top 100 according to the minsort function. All the documentation is included in BetsFunctions_Documentation"
   ]
  },
  {
   "cell_type": "code",
   "execution_count": 17,
   "metadata": {},
   "outputs": [
    {
     "data": {
      "text/plain": [
       "dict_keys(['Atlas - Empate - Mazatlán FC ', 'FC Juárez - Empate - Pachuca ', 'Puebla - Empate - Chivas de Guadalajara ', 'León - Empate - Toluca ', 'América - Empate - Santos Laguna ', 'Querétaro FC - Empate - Tijuana Xolos de Caliente ', 'Tigres UANL - Empate - Cruz Azul ', 'Pumas UNAM - Empate - Monterrey ', 'Atlético San Luis - Empate - Necaxa ', 'León - Empate - Atlas ', 'Monterrey - Empate - Tijuana Xolos de Caliente ', 'FC Juárez - Empate - Atlético San Luis ', 'Necaxa - Empate - Pumas UNAM ', 'Mazatlán FC - Empate - Querétaro FC ', 'Cruz Azul - Empate - León ', 'Pachuca - Empate - Puebla ', 'Chivas de Guadalajara - Empate - Tigres UANL ', 'Monterrey - Empate - América ', 'Toluca - Empate - Atlético San Luis ', 'Santos Laguna - Empate - FC Juárez ', 'Tijuana Xolos de Caliente - Empate - Atlas '])"
      ]
     },
     "execution_count": 17,
     "metadata": {},
     "output_type": "execute_result"
    }
   ],
   "source": [
    "Bet_Simulation.keys()"
   ]
  },
  {
   "cell_type": "code",
   "execution_count": 18,
   "metadata": {},
   "outputs": [
    {
     "data": {
      "text/plain": [
       "dict_keys(['All_Results', 'Abs_Results'])"
      ]
     },
     "execution_count": 18,
     "metadata": {},
     "output_type": "execute_result"
    }
   ],
   "source": [
    "Bet_Simulation['Atlas - Empate - Mazatlán FC '].keys()"
   ]
  },
  {
   "cell_type": "code",
   "execution_count": 25,
   "metadata": {},
   "outputs": [
    {
     "data": {
      "text/html": [
       "<div>\n",
       "<style scoped>\n",
       "    .dataframe tbody tr th:only-of-type {\n",
       "        vertical-align: middle;\n",
       "    }\n",
       "\n",
       "    .dataframe tbody tr th {\n",
       "        vertical-align: top;\n",
       "    }\n",
       "\n",
       "    .dataframe thead th {\n",
       "        text-align: right;\n",
       "    }\n",
       "</style>\n",
       "<table border=\"1\" class=\"dataframe\">\n",
       "  <thead>\n",
       "    <tr style=\"text-align: right;\">\n",
       "      <th></th>\n",
       "      <th>Percentage Atlas</th>\n",
       "      <th>Percentage Empate</th>\n",
       "      <th>Percentage Mazatlán FC</th>\n",
       "      <th>Atlas</th>\n",
       "      <th>Empate</th>\n",
       "      <th>Mazatlán FC</th>\n",
       "      <th>Min</th>\n",
       "      <th>Max</th>\n",
       "      <th>Sd</th>\n",
       "      <th>Average</th>\n",
       "      <th>Max_Min</th>\n",
       "    </tr>\n",
       "  </thead>\n",
       "  <tbody>\n",
       "    <tr>\n",
       "      <th>21628</th>\n",
       "      <td>0.271129</td>\n",
       "      <td>0.444193</td>\n",
       "      <td>0.284678</td>\n",
       "      <td>-0.552813</td>\n",
       "      <td>0.865609</td>\n",
       "      <td>0.494561</td>\n",
       "      <td>-0.552813</td>\n",
       "      <td>0.865609</td>\n",
       "      <td>2.400311</td>\n",
       "      <td>0.740654</td>\n",
       "      <td>0.312796</td>\n",
       "    </tr>\n",
       "    <tr>\n",
       "      <th>46412</th>\n",
       "      <td>0.347150</td>\n",
       "      <td>0.358223</td>\n",
       "      <td>0.294627</td>\n",
       "      <td>-0.427428</td>\n",
       "      <td>0.504535</td>\n",
       "      <td>0.546794</td>\n",
       "      <td>-0.427428</td>\n",
       "      <td>0.546794</td>\n",
       "      <td>2.447224</td>\n",
       "      <td>0.740598</td>\n",
       "      <td>0.119366</td>\n",
       "    </tr>\n",
       "    <tr>\n",
       "      <th>11257</th>\n",
       "      <td>0.120993</td>\n",
       "      <td>0.363331</td>\n",
       "      <td>0.515675</td>\n",
       "      <td>-0.800440</td>\n",
       "      <td>0.525991</td>\n",
       "      <td>1.707296</td>\n",
       "      <td>-0.800440</td>\n",
       "      <td>1.707296</td>\n",
       "      <td>2.364178</td>\n",
       "      <td>0.737486</td>\n",
       "      <td>0.906856</td>\n",
       "    </tr>\n",
       "    <tr>\n",
       "      <th>42220</th>\n",
       "      <td>0.087745</td>\n",
       "      <td>0.574920</td>\n",
       "      <td>0.337336</td>\n",
       "      <td>-0.855278</td>\n",
       "      <td>1.414662</td>\n",
       "      <td>0.771013</td>\n",
       "      <td>-0.855278</td>\n",
       "      <td>1.414662</td>\n",
       "      <td>2.405333</td>\n",
       "      <td>0.737334</td>\n",
       "      <td>0.559384</td>\n",
       "    </tr>\n",
       "    <tr>\n",
       "      <th>18130</th>\n",
       "      <td>0.429663</td>\n",
       "      <td>0.277479</td>\n",
       "      <td>0.292858</td>\n",
       "      <td>-0.291335</td>\n",
       "      <td>0.165412</td>\n",
       "      <td>0.537506</td>\n",
       "      <td>-0.291335</td>\n",
       "      <td>0.537506</td>\n",
       "      <td>2.331611</td>\n",
       "      <td>0.732857</td>\n",
       "      <td>0.246170</td>\n",
       "    </tr>\n",
       "    <tr>\n",
       "      <th>...</th>\n",
       "      <td>...</td>\n",
       "      <td>...</td>\n",
       "      <td>...</td>\n",
       "      <td>...</td>\n",
       "      <td>...</td>\n",
       "      <td>...</td>\n",
       "      <td>...</td>\n",
       "      <td>...</td>\n",
       "      <td>...</td>\n",
       "      <td>...</td>\n",
       "      <td>...</td>\n",
       "    </tr>\n",
       "    <tr>\n",
       "      <th>26807</th>\n",
       "      <td>0.529136</td>\n",
       "      <td>0.269093</td>\n",
       "      <td>0.201771</td>\n",
       "      <td>-0.127269</td>\n",
       "      <td>0.130191</td>\n",
       "      <td>0.059297</td>\n",
       "      <td>-0.127269</td>\n",
       "      <td>0.130191</td>\n",
       "      <td>0.730612</td>\n",
       "      <td>-0.426784</td>\n",
       "      <td>0.002922</td>\n",
       "    </tr>\n",
       "    <tr>\n",
       "      <th>34448</th>\n",
       "      <td>0.549320</td>\n",
       "      <td>0.256531</td>\n",
       "      <td>0.194149</td>\n",
       "      <td>-0.093978</td>\n",
       "      <td>0.077430</td>\n",
       "      <td>0.019280</td>\n",
       "      <td>-0.093978</td>\n",
       "      <td>0.077430</td>\n",
       "      <td>0.736676</td>\n",
       "      <td>-0.428430</td>\n",
       "      <td>-0.016548</td>\n",
       "    </tr>\n",
       "    <tr>\n",
       "      <th>28033</th>\n",
       "      <td>0.217193</td>\n",
       "      <td>0.260549</td>\n",
       "      <td>0.522259</td>\n",
       "      <td>-0.641773</td>\n",
       "      <td>0.094304</td>\n",
       "      <td>1.741858</td>\n",
       "      <td>-0.641773</td>\n",
       "      <td>1.741858</td>\n",
       "      <td>0.740393</td>\n",
       "      <td>-0.429574</td>\n",
       "      <td>1.100085</td>\n",
       "    </tr>\n",
       "    <tr>\n",
       "      <th>14806</th>\n",
       "      <td>0.374995</td>\n",
       "      <td>0.297918</td>\n",
       "      <td>0.327086</td>\n",
       "      <td>-0.381501</td>\n",
       "      <td>0.251257</td>\n",
       "      <td>0.717203</td>\n",
       "      <td>-0.381501</td>\n",
       "      <td>0.717203</td>\n",
       "      <td>0.752060</td>\n",
       "      <td>-0.436745</td>\n",
       "      <td>0.335702</td>\n",
       "    </tr>\n",
       "    <tr>\n",
       "      <th>51767</th>\n",
       "      <td>0.029445</td>\n",
       "      <td>0.666519</td>\n",
       "      <td>0.304036</td>\n",
       "      <td>-0.951435</td>\n",
       "      <td>1.799379</td>\n",
       "      <td>0.596190</td>\n",
       "      <td>-0.951435</td>\n",
       "      <td>1.799379</td>\n",
       "      <td>0.767969</td>\n",
       "      <td>-0.444820</td>\n",
       "      <td>0.847944</td>\n",
       "    </tr>\n",
       "  </tbody>\n",
       "</table>\n",
       "<p>48611 rows × 11 columns</p>\n",
       "</div>"
      ],
      "text/plain": [
       "       Percentage Atlas   Percentage Empate   Percentage Mazatlán FC   \\\n",
       "21628           0.271129            0.444193                 0.284678   \n",
       "46412           0.347150            0.358223                 0.294627   \n",
       "11257           0.120993            0.363331                 0.515675   \n",
       "42220           0.087745            0.574920                 0.337336   \n",
       "18130           0.429663            0.277479                 0.292858   \n",
       "...                  ...                 ...                      ...   \n",
       "26807           0.529136            0.269093                 0.201771   \n",
       "34448           0.549320            0.256531                 0.194149   \n",
       "28033           0.217193            0.260549                 0.522259   \n",
       "14806           0.374995            0.297918                 0.327086   \n",
       "51767           0.029445            0.666519                 0.304036   \n",
       "\n",
       "         Atlas    Empate   Mazatlán FC        Min       Max        Sd  \\\n",
       "21628 -0.552813  0.865609      0.494561 -0.552813  0.865609  2.400311   \n",
       "46412 -0.427428  0.504535      0.546794 -0.427428  0.546794  2.447224   \n",
       "11257 -0.800440  0.525991      1.707296 -0.800440  1.707296  2.364178   \n",
       "42220 -0.855278  1.414662      0.771013 -0.855278  1.414662  2.405333   \n",
       "18130 -0.291335  0.165412      0.537506 -0.291335  0.537506  2.331611   \n",
       "...         ...       ...           ...       ...       ...       ...   \n",
       "26807 -0.127269  0.130191      0.059297 -0.127269  0.130191  0.730612   \n",
       "34448 -0.093978  0.077430      0.019280 -0.093978  0.077430  0.736676   \n",
       "28033 -0.641773  0.094304      1.741858 -0.641773  1.741858  0.740393   \n",
       "14806 -0.381501  0.251257      0.717203 -0.381501  0.717203  0.752060   \n",
       "51767 -0.951435  1.799379      0.596190 -0.951435  1.799379  0.767969   \n",
       "\n",
       "        Average   Max_Min  \n",
       "21628  0.740654  0.312796  \n",
       "46412  0.740598  0.119366  \n",
       "11257  0.737486  0.906856  \n",
       "42220  0.737334  0.559384  \n",
       "18130  0.732857  0.246170  \n",
       "...         ...       ...  \n",
       "26807 -0.426784  0.002922  \n",
       "34448 -0.428430 -0.016548  \n",
       "28033 -0.429574  1.100085  \n",
       "14806 -0.436745  0.335702  \n",
       "51767 -0.444820  0.847944  \n",
       "\n",
       "[48611 rows x 11 columns]"
      ]
     },
     "execution_count": 25,
     "metadata": {},
     "output_type": "execute_result"
    }
   ],
   "source": [
    "Bet_Simulation['Atlas - Empate - Mazatlán FC ']['Abs_Results'].sort_values(by=\"Sd\",ascending=False).sort_values(by=\"Average\",ascending=False)"
   ]
  },
  {
   "cell_type": "code",
   "execution_count": 51,
   "metadata": {},
   "outputs": [],
   "source": [
    "Bet_Simulation['Syria - Empate - Kuwait ']['All_Results']"
   ]
  },
  {
   "cell_type": "code",
   "execution_count": 56,
   "metadata": {},
   "outputs": [],
   "source": [
    "def absolute_value_selection(simulation):\n",
    "    positive_numbers = [num for num in simulation if num > 0]\n",
    "    negative_numbers=[num for num in simulation if num < 0]\n",
    "    if len(positive_numbers)==2 and all(num > abs(negative_numbers[0]) for num in positive_numbers):\n",
    "        return(simulation)\n"
   ]
  },
  {
   "cell_type": "code",
   "execution_count": 68,
   "metadata": {},
   "outputs": [],
   "source": [
    "def negative_minimum(simulation):\n",
    "    negative_numbers=[num for num in simulation if num < 0]\n",
    "    minimum=min(np.abs(simulation))\n",
    "    if minimum == np.abs(negative_numbers):\n",
    "        return(simulation)\n",
    "    else:\n",
    "        None\n"
   ]
  }
 ],
 "metadata": {
  "kernelspec": {
   "display_name": "Python 3",
   "language": "python",
   "name": "python3"
  },
  "language_info": {
   "codemirror_mode": {
    "name": "ipython",
    "version": 3
   },
   "file_extension": ".py",
   "mimetype": "text/x-python",
   "name": "python",
   "nbconvert_exporter": "python",
   "pygments_lexer": "ipython3",
   "version": "3.9.7"
  },
  "orig_nbformat": 4
 },
 "nbformat": 4,
 "nbformat_minor": 2
}
