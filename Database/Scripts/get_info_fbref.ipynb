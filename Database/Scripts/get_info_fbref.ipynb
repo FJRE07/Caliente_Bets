{
 "cells": [
  {
   "cell_type": "code",
   "execution_count": 23,
   "metadata": {},
   "outputs": [],
   "source": [
    "import soccerdata as sd\n",
    "from soccerdata import _common\n",
    "from datetime import datetime\n",
    "import pandas as pd\n",
    "\n",
    "FILES_PATH = 'C:/Users/isaac/Documents/APuestasJair/Pruebas/'"
   ]
  },
  {
   "cell_type": "code",
   "execution_count": 7,
   "metadata": {},
   "outputs": [
    {
     "data": {
      "text/plain": [
       "['Big 5 European Leagues Combined',\n",
       " 'ENG-Premier League',\n",
       " 'ESP-La Liga',\n",
       " 'FRA-Ligue 1',\n",
       " 'GER-Bundesliga',\n",
       " \"INT-Women's World Cup\",\n",
       " 'INT-World Cup',\n",
       " 'ITA-Serie A',\n",
       " 'Liga-mx']"
      ]
     },
     "execution_count": 7,
     "metadata": {},
     "output_type": "execute_result"
    }
   ],
   "source": [
    "#Get available leagues \n",
    "#Add new League C:\\Users\\isaac\\soccerdata\\config\\league_dict.json\n",
    "sd.FBref.available_leagues()"
   ]
  },
  {
   "cell_type": "code",
   "execution_count": 10,
   "metadata": {},
   "outputs": [
    {
     "data": {
      "text/html": [
       "<pre style=\"white-space:pre;overflow-x:auto;line-height:normal;font-family:Menlo,'DejaVu Sans Mono',consolas,'Courier New',monospace\"><span style=\"color: #7fbfbf; text-decoration-color: #7fbfbf\">[02/11/24 16:14:07] </span><span style=\"color: #000080; text-decoration-color: #000080\">INFO    </span> Saving cached data to C:\\Users\\isaac\\soccerdata\\data\\FBref               <a href=\"file://c:\\Users\\isaac\\AppData\\Local\\Programs\\Python\\Python39\\lib\\site-packages\\soccerdata\\_common.py\" target=\"_blank\"><span style=\"color: #7f7f7f; text-decoration-color: #7f7f7f\">_common.py</span></a><span style=\"color: #7f7f7f; text-decoration-color: #7f7f7f\">:</span><a href=\"file://c:\\Users\\isaac\\AppData\\Local\\Programs\\Python\\Python39\\lib\\site-packages\\soccerdata\\_common.py#91\" target=\"_blank\"><span style=\"color: #7f7f7f; text-decoration-color: #7f7f7f\">91</span></a>\n",
       "</pre>\n"
      ],
      "text/plain": [
       "\u001b[2;36m[02/11/24 16:14:07]\u001b[0m\u001b[2;36m \u001b[0m\u001b[34mINFO    \u001b[0m Saving cached data to C:\\Users\\isaac\\soccerdata\\data\\FBref               \u001b]8;id=483382;file://c:\\Users\\isaac\\AppData\\Local\\Programs\\Python\\Python39\\lib\\site-packages\\soccerdata\\_common.py\u001b\\\u001b[2m_common.py\u001b[0m\u001b]8;;\u001b\\\u001b[2m:\u001b[0m\u001b]8;id=612993;file://c:\\Users\\isaac\\AppData\\Local\\Programs\\Python\\Python39\\lib\\site-packages\\soccerdata\\_common.py#91\u001b\\\u001b[2m91\u001b[0m\u001b]8;;\u001b\\\n"
      ]
     },
     "metadata": {},
     "output_type": "display_data"
    }
   ],
   "source": [
    "#Liga Mx info\n",
    "fbref_client = sd.FBref(leagues=\"Liga-mx\",seasons=2324)\n",
    "liga_mx_season = fbref_client.read_seasons()"
   ]
  },
  {
   "cell_type": "code",
   "execution_count": 11,
   "metadata": {},
   "outputs": [],
   "source": [
    "#Get liga mx matches data\n",
    "matches_data = fbref_client.read_schedule()\n",
    "matches_data.to_csv(FILES_PATH + 'matchesLigaMx.csv', index=False)"
   ]
  },
  {
   "cell_type": "code",
   "execution_count": 16,
   "metadata": {},
   "outputs": [],
   "source": [
    "#Get liga mx matches data\n",
    "\n",
    "teams = fbref_client.read_team_match_stats(stat_type='schedule', opponent_stats=False, team=None)\n",
    "teams.to_csv(FILES_PATH + 'teamMatchStats.csv', index=False)\n"
   ]
  },
  {
   "cell_type": "code",
   "execution_count": 18,
   "metadata": {},
   "outputs": [
    {
     "data": {
      "text/plain": [
       "round           string[python]\n",
       "week                     Int64\n",
       "day             string[python]\n",
       "date            datetime64[ns]\n",
       "time            string[python]\n",
       "home_team       string[python]\n",
       "home_xg                Float64\n",
       "score           string[python]\n",
       "away_xg                Float64\n",
       "away_team       string[python]\n",
       "attendance               Int64\n",
       "venue           string[python]\n",
       "referee         string[python]\n",
       "match_report            object\n",
       "notes           string[python]\n",
       "game_id                 object\n",
       "dtype: object"
      ]
     },
     "execution_count": 18,
     "metadata": {},
     "output_type": "execute_result"
    }
   ],
   "source": [
    "matches_data.dtypes"
   ]
  },
  {
   "cell_type": "code",
   "execution_count": 25,
   "metadata": {},
   "outputs": [
    {
     "name": "stdout",
     "output_type": "stream",
     "text": [
      "2023-06-30 Mazatlán-Pachuca\n"
     ]
    }
   ],
   "source": [
    "\n",
    "date = datetime.strptime('2023-06-30', '%Y-%m-%d')\n",
    "home_team = 'Mazatlán'\n",
    "away_team = 'Pachuca'\n",
    "\n",
    "game_id = \"{} {}-{}\".format(\n",
    "            date.strftime(\"%Y-%m-%d\"),\n",
    "            home_team,\n",
    "            away_team,\n",
    "        )\n",
    "print(game_id)"
   ]
  }
 ],
 "metadata": {
  "kernelspec": {
   "display_name": "Python 3",
   "language": "python",
   "name": "python3"
  },
  "language_info": {
   "codemirror_mode": {
    "name": "ipython",
    "version": 3
   },
   "file_extension": ".py",
   "mimetype": "text/x-python",
   "name": "python",
   "nbconvert_exporter": "python",
   "pygments_lexer": "ipython3",
   "version": "3.9.7"
  }
 },
 "nbformat": 4,
 "nbformat_minor": 2
}
